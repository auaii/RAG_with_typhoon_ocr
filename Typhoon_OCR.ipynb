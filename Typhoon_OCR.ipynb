{
 "cells": [
  {
   "cell_type": "code",
   "execution_count": 1,
   "id": "44c69b1b",
   "metadata": {},
   "outputs": [],
   "source": [
    "# Access API from .env\n",
    "import os \n",
    "from dotenv import load_dotenv \n",
    "\n",
    "load_dotenv(override=True)\n",
    "os.environ['HF_TOKEN'] = os.getenv('HF_TOKEN', 'your-key-if-not-using-env')\n",
    "os.environ['TYPHOON_TOKEN'] = os.getenv('TYPHOON_API_KEY', 'your-key-if-not-using-env')\n"
   ]
  },
  {
   "cell_type": "code",
   "execution_count": 2,
   "id": "71972983",
   "metadata": {},
   "outputs": [
    {
     "name": "stderr",
     "output_type": "stream",
     "text": [
      "'pip' is not recognized as an internal or external command,\n",
      "operable program or batch file.\n"
     ]
    }
   ],
   "source": [
    "!pip install typhoon-ocr "
   ]
  },
  {
   "cell_type": "code",
   "execution_count": 3,
   "id": "88c86fc9",
   "metadata": {},
   "outputs": [],
   "source": [
    "import os\n",
    "os.environ[\"PATH\"] += os.pathsep + r\"C:\\Users\\aueiiw\\Downloads\\Release-24.08.0-0\\poppler-24.08.0\\Library\\bin\"\n"
   ]
  },
  {
   "cell_type": "code",
   "execution_count": 15,
   "id": "cb0c6812",
   "metadata": {},
   "outputs": [],
   "source": [
    "from typhoon_ocr import ocr_document\n",
    "\n",
    "# markdown = ocr_document(\n",
    "#     pdf_or_image_path=\"./pdf/ประมวลกฎหมายแพ่งและพาณิชย์ (ฉบับอัพเดทล่าสุด).pdf\",  # Works with PDFs or images\n",
    "#     task_type=\"default\",    # Choose between \"default\" or \"structure\"\n",
    "#     page_num=1             # Process page 5 of a PDF (default is 1, always 1 for images)\n",
    "# )\n",
    "\n",
    "# Or with image\n",
    "markdown = ocr_document(\n",
    "    pdf_or_image_path=\"./image/page_005.jpg\",  # Works with PDFs or images\n",
    "    task_type=\"default\",    # Choose between \"default\" or \"structure\"\n",
    ")\n"
   ]
  },
  {
   "cell_type": "code",
   "execution_count": 16,
   "id": "1f67e59e",
   "metadata": {},
   "outputs": [
    {
     "name": "stdout",
     "output_type": "stream",
     "text": [
      "(๕) “มาตรา ๖๕” ในมาตรา ๑๖๐๒ ให้แก้เป็น “มาตรา ๖๒”\n",
      "(๖) “มาตรา ๖๖” ในมาตรา ๑๖๐๒ ให้แก้เป็น “มาตรา ๖๓”\n",
      "(๗) “มาตรา ๘๑” ในมาตรา ๑๖๗๖ ให้แก้เป็น “มาตรา ๑๑๐”\n",
      "(๘) “มาตรา ๘๕” ในมาตรา ๑๖๗๗ ให้แก้เป็น “มาตรา ๑๑๔”\n",
      "(๙) “มาตรา ๑๓๐ วรรคสอง” ในมาตรา ๓๖๐ ให้แก้เป็น “มาตรา ๑๖๙ วรรคสอง”\n",
      "(๑๐) “มาตรา ๑๘๙” ในมาตรา ๒๔๘ และมาตรา ๑๗๕๔ ให้แก้เป็น “มาตรา\n",
      "\n",
      "๑๙๓/๒๗”\n",
      "\n",
      "มาตรา ๑๖ บทบัญญัติแห่งกฎหมายอื่นที่อ้างถึงบทบัญญัติในบรรพ ๑ หรือลักษณะ\n",
      "๒๓ ในบรรพ ๓ แห่งประมวลกฎหมายแพ่งและพาณิชย์ ให้ถือว่าบทบัญญัติแห่งกฎหมายนั้นอ้างถึง\n",
      "บทบัญญัติที่มีนัยเช่นเดียวกันในบรรพ ๑ แห่งประมวลกฎหมายแพ่งและพาณิชย์ที่ได้ตรวจชำระใหม่\n",
      "ท้ายพระราชบัญญัตินี้\n",
      "\n",
      "มาตรา ๑๗ บรรดากฎกระทรวงที่ออกตามความในมาตรา ๙๗ และมาตรา ๑๒๙๗\n",
      "แห่งประมวลกฎหมายแพ่งและพาณิชย์ซึ่งใช้บังคับอยู่ก่อนวันที่พระราชบัญญัตินี้ใช้บังคับ ให้ยังคง\n",
      "ใช้ได้ต่อไปเท่าที่ไม่ขัดหรือแย้งกับบทบัญญัติแห่งประมวลกฎหมายแพ่งและพาณิชย์ที่ได้ตรวจชำระใหม่\n",
      "ท้ายพระราชบัญญัตินี้\n",
      "\n",
      "มาตรา ๑๘ ให้นายกรัฐมนตรี และรัฐมนตรีว่าการกระทรวงมหาดไทยรักษาการ\n",
      "ตามพระราชบัญญัตินี้\n",
      "\n",
      "ผู้รับสนองพระบรมราชโองการ\n",
      "\n",
      "อาณันท์ ปันยางชุน\n",
      "นายกรัฐมนตรี\n",
      "✅ Markdown saved complete\n"
     ]
    }
   ],
   "source": [
    "# บันทึกผล markdown เป็นไฟล์ .md\n",
    "with open(\"./Typhoon_output/page5.txt\", \"w\", encoding=\"utf-8\") as f:\n",
    "    f.write(markdown)\n",
    "\n",
    "print(markdown)\n",
    "print(\"✅ Markdown saved complete\")"
   ]
  },
  {
   "cell_type": "code",
   "execution_count": null,
   "id": "8a524c9a",
   "metadata": {},
   "outputs": [],
   "source": []
  }
 ],
 "metadata": {
  "kernelspec": {
   "display_name": "Python 3",
   "language": "python",
   "name": "python3"
  },
  "language_info": {
   "codemirror_mode": {
    "name": "ipython",
    "version": 3
   },
   "file_extension": ".py",
   "mimetype": "text/x-python",
   "name": "python",
   "nbconvert_exporter": "python",
   "pygments_lexer": "ipython3",
   "version": "3.13.0"
  }
 },
 "nbformat": 4,
 "nbformat_minor": 5
}
